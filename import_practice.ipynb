{
 "cells": [
  {
   "cell_type": "code",
   "execution_count": 1,
   "metadata": {},
   "outputs": [
    {
     "data": {
      "text/plain": [
       "'SPTR is Booming right now!'"
      ]
     },
     "execution_count": 1,
     "metadata": {},
     "output_type": "execute_result"
    }
   ],
   "source": [
    "# define a function\n",
    "\n",
    "def printSth(stock_ticker):\n",
    "    result = stock_ticker + \" is Booming right now!\"\n",
    "    return result\n",
    "\n",
    "printSth(\"SPTR\")    "
   ]
  },
  {
   "cell_type": "code",
   "execution_count": 6,
   "metadata": {},
   "outputs": [
    {
     "name": "stdout",
     "output_type": "stream",
     "text": [
      "Tom Bell! Thanks for your business of $0. You are a Bronze member!\n",
      "Maggie Johnson! Thanks for your business of $1032. You are a Silver member!\n",
      "John Spectre! Thanks for your business of $2543. You are a Gold member!\n",
      "Susy Simmons! Thanks for your business of $5322. You are a Platinum member!\n"
     ]
    }
   ],
   "source": [
    "# -*- coding: utf-8 -*-\n",
    "\"\"\"Refresher activity.\n",
    "\n",
    "This script will use variables, conditionals, lists, dicts, and functions\n",
    "to print out different greetings for customers based on their\n",
    "business tier (determined by revenue).\n",
    "\"\"\"\n",
    "\n",
    "# List of dicts\n",
    "customers = [\n",
    "    { \"first_name\": \"Tom\", \"last_name\": \"Bell\", \"revenue\": 0 },\n",
    "    { \"first_name\": \"Maggie\", \"last_name\": \"Johnson\", \"revenue\": 1032 },\n",
    "    { \"first_name\": \"John\", \"last_name\": \"Spectre\", \"revenue\": 2543 },\n",
    "    { \"first_name\": \"Susy\", \"last_name\": \"Simmons\", \"revenue\": 5322 }\n",
    "]\n",
    "\n",
    "# @TODO Define a function that accepts a customer first_name, last_name, and\n",
    "# revenue and returns a custom greeting with the full name.\n",
    "# Use these ranges to determine the business tier (and corresponding message)\n",
    "# for each customer.\n",
    "#   Platinum = 3001+\n",
    "#   Gold = 2001-3000\n",
    "#   Silver = 1001-2000\n",
    "#   Bronze = 0-1000\n",
    "\n",
    "def create_greeting(first_name, last_name, revenue):\n",
    "    greeting = \"\"\n",
    "    if revenue > 3001: \n",
    "        greeting = \"Platinum\"\n",
    "    elif revenue > 2000 and revenue < 3001:\n",
    "        greeting = \"Gold\"\n",
    "    elif revenue > 1000 and revenue < 2001:\n",
    "        greeting = \"Silver\"\n",
    "    elif revenue > -1 and revenue < 1001:\n",
    "        greeting = \"Bronze\"\n",
    "    else:\n",
    "        greeting = \"not a valid revenue ... \"\n",
    "    return greeting\n",
    "\n",
    "# @TODO: Loop through the list of customers and use your function to print\n",
    "# custom greetings for each customer.\n",
    "# @TODO: YOUR CODE HERE!\n",
    "\n",
    "for c in customers:\n",
    "    (f, l, r) = (c[\"first_name\"], c[\"last_name\"], c[\"revenue\"])\n",
    "    g = create_greeting(f,l,r)\n",
    "    result = f\"Hello {f} {l}! Thanks for your business of ${r}. You are a {g} member!\"\n",
    "    print(result)\n",
    "\n",
    "\n"
   ]
  },
  {
   "cell_type": "code",
   "execution_count": 13,
   "metadata": {},
   "outputs": [
    {
     "name": "stdout",
     "output_type": "stream",
     "text": [
      "The present value of this ZCB is $862.608784384164, and its current price is $700.\n",
      "Yes. ZCB is worth it.\n"
     ]
    }
   ],
   "source": [
    "# -*- coding: utf-8 -*-\n",
    "\"\"\"\n",
    "Zero-Coupon Bond Valuation.\n",
    "\n",
    "This script will calculate the present value of zero-coupon bonds, compare the present value to the price of the bond, and determine the corresponding action (buy, not buy, neutral).\n",
    "\"\"\"\n",
    "\n",
    "# @TODO: Create a function to calculate present value\n",
    "def present_value(future_value, discount_rate, compounding_periods, years):\n",
    "    \n",
    "    # FV = PV * (1 + (i/n))^(nt)\n",
    "    \n",
    "    pv = future_value / ((1 + discount_rate / compounding_periods) ** years)\n",
    "    return pv\n",
    "\n",
    "\n",
    "# Intialize the zero-coupon bond parameters, assume compounding period is equal to 1\n",
    "price = 700\n",
    "future_value = 1000\n",
    "discount_rate = .03\n",
    "compounding_periods = 1\n",
    "years = 5\n",
    "\n",
    "# @TODO: Call the calculate_present_value() function and assign to a variables\n",
    "pv = present_value(future_value, discount_rate, compounding_periods, years)\n",
    "print(f\"The present value of this ZCB is ${pv}, and its current price is ${price}.\")\n",
    "if pv > price: \n",
    "    print(\"Yes. ZCB is worth it.\")\n",
    "else:\n",
    "    print(\"No. ZCB is not worth it\")\n",
    "\n",
    "\n",
    "# @TODO: Determine if the bond is worth it"
   ]
  },
  {
   "cell_type": "code",
   "execution_count": 29,
   "metadata": {},
   "outputs": [],
   "source": [
    "### import ###\n",
    "\n",
    "import numpy as np\n",
    "import numpy_financial as npf\n",
    "import pandas as pd\n",
    "from pathlib import Path\n"
   ]
  },
  {
   "cell_type": "code",
   "execution_count": 17,
   "metadata": {},
   "outputs": [
    {
     "name": "stdout",
     "output_type": "stream",
     "text": [
      "NPV = $830.2779864763334\n"
     ]
    }
   ],
   "source": [
    "cfs = [100, 200, 300, 400]\n",
    "ir = 0.1\n",
    "cfs_npv = npf.npv(ir, cfs)\n",
    "print(f\"NPV = ${cfs_npv}\")"
   ]
  },
  {
   "cell_type": "code",
   "execution_count": 23,
   "metadata": {},
   "outputs": [
    {
     "name": "stdout",
     "output_type": "stream",
     "text": [
      "{'conservative': 267.94617853971704, 'neutral': 401.91926780957544, 'aggressive': 285.8923570794341}\n",
      "The optimal strategy is neutral.\n"
     ]
    }
   ],
   "source": [
    "# -*- coding: utf-8 -*-\n",
    "\"\"\"Student Activity: Financial Analysis using NPV.\n",
    "\n",
    "This script will choose the optimal project scenario to\n",
    "undertake based on max NPV values.\n",
    "\"\"\"\n",
    "\n",
    "# @TODO: Import the NumPy Financial (numpy_financial) library\n",
    "\n",
    "\n",
    "# Discount Rate\n",
    "discount_rate = .1\n",
    "\n",
    "# Initial Investment, Cash Flow 1, Cash Flow 2, Cash Flow 3, Cash Flow 4\n",
    "cash_flows_conservative = [-1000, 400, 400, 400, 400]\n",
    "cash_flows_neutral = [-1500, 600, 600, 600, 600]\n",
    "cash_flows_aggressive = [-2250, 800, 800, 800, 800]\n",
    "\n",
    "# @TODO: Initialize dictionary to hold NPV return values\n",
    "npv_dict = {}\n",
    "\n",
    "# @TODO: Calculate the NPV for each scenario\n",
    "npv_dict['conservative'] = npf.npv(discount_rate, cash_flows_conservative)\n",
    "npv_dict['neutral'] = npf.npv(discount_rate, cash_flows_neutral)\n",
    "npv_dict['aggressive'] = npf.npv(discount_rate, cash_flows_aggressive)\n",
    "\n",
    "max_npv = max(npv_dict.values())\n",
    "max_index = list(npv_dict.values()).index(max_npv)\n",
    "max_key = list(npv_dict.keys())[max_index]\n",
    "\n",
    "print(npv_dict)\n",
    "print(f\"The optimal strategy is {max_key}.\")\n"
   ]
  },
  {
   "cell_type": "code",
   "execution_count": 30,
   "metadata": {},
   "outputs": [
    {
     "name": "stdout",
     "output_type": "stream",
     "text": [
      "Current working directory: /Users/JiapingBian/Desktop/Fintech/Jupyter-Workspace\n"
     ]
    }
   ],
   "source": [
    "print(f\"Current working directory: {Path.cwd()}\")"
   ]
  },
  {
   "cell_type": "code",
   "execution_count": 33,
   "metadata": {},
   "outputs": [
    {
     "name": "stdout",
     "output_type": "stream",
     "text": [
      "1. Choose a FinTech domain that you find relevant or interesting.\n",
      "Robo-advising\n",
      "\n",
      "2. Choose a Fintech company \n",
      "Ant Financial\n",
      "\n",
      "3. Choose a target project\n",
      "Ant & Vanguard\n",
      "https://www.bloomberg.com/news/articles/2020-04-02/ant-vanguard-target-900-million-users-with-china-robo-adviser\n",
      "\n",
      "\n",
      "https://hackernoon.com/the-story-of-ant-financial-4t2aq3zh8\n",
      "\n",
      "\n",
      "https://www.alibabacloud.com/blog/ant-financial-applies-ai-in-financial-sector_595687\n",
      "\n",
      "\n",
      "https://www.investopedia.com/tech/how-fintech-disrupting-wealth-management/\n",
      "\n",
      "https://www2.deloitte.com/lu/en/pages/technology/articles/regtech-companies-compliance.html\n",
      "\n",
      "\n"
     ]
    }
   ],
   "source": [
    "filepath = Path(\"../fintech-project-1/research.txt\")\n",
    "with open(filepath, 'r') as file: \n",
    "    text = file.read()\n",
    "\n",
    "output_path = Path(\"output.txt\")\n",
    "# file.read(...), file.write(...)"
   ]
  },
  {
   "cell_type": "code",
   "execution_count": 37,
   "metadata": {},
   "outputs": [
    {
     "name": "stdout",
     "output_type": "stream",
     "text": [
      "/Users/JiapingBian/Desktop/Fintech/Jupyter-Workspace\n",
      "\n",
      "\n",
      "Total customer number is 4945. Total days count is 100.\n",
      "\n",
      "The daily average traffic is 49.45.\n",
      "The daily average traffic is 49.45.\n"
     ]
    }
   ],
   "source": [
    "\n",
    "# @TODO: From the pathlib library, import the main class Path\n",
    "from pathlib import Path\n",
    "\n",
    "# @TODO: Check the current directory where the Python program is executing from\n",
    "print(Path.cwd())\n",
    "\n",
    "# @TODO: Set the path using Pathlib\n",
    "filepath = Path(\"customer_traffic.txt\")\n",
    "print(\"\\n\")\n",
    "\n",
    "# Initialize variables\n",
    "customer_total = 0\n",
    "day_count = 0\n",
    "\n",
    "with open(filepath, 'r') as file:\n",
    "    for line in file: \n",
    "        customer_total += int(line)\n",
    "        day_count += 1\n",
    "        \n",
    "print(f\"Total customer number is {customer_total}. Total days count is {day_count}.\\n\")\n",
    "\n",
    "average_traffic = customer_total / day_count\n",
    "print(f\"The daily average traffic is {average_traffic}.\")\n",
    "\n",
    "output_path = Path(\"output.txt\")\n",
    "\n",
    "with open(output_path, 'w') as file:\n",
    "    file.write(f\"The daily average traffic is {average_traffic}.\")\n",
    "    \n",
    "with open(output_path, 'r') as file:\n",
    "    text = file.read()\n",
    "    print(text)\n"
   ]
  },
  {
   "cell_type": "code",
   "execution_count": 46,
   "metadata": {},
   "outputs": [
    {
     "name": "stdout",
     "output_type": "stream",
     "text": [
      "<class '_csv.reader'>\n",
      "['Name', 'Count', 'Revenue'] <--- THIS IS THE OLD HEADER\n",
      "['Andrew', '9', '58']\n",
      "['Phil', '8', '377']\n",
      "['Madison', '5', '302']\n",
      "['Sally', '1', '75']\n",
      "['Tyler', '1', '334']\n",
      "['Billy', '7', '146']\n",
      "['Steve', '1', '178']\n",
      "['Madison', '7', '313']\n",
      "['Sarah', '8', '103']\n",
      "['Tim', '5', '344']\n",
      "['Andrew', '5', '349']\n",
      "['Phil', '8', '61']\n",
      "['Madison', '4', '196']\n",
      "['Carl', '1', '374']\n",
      "['Devon', '9', '220']\n",
      "['Megan', '9', '321']\n",
      "['Sarah', '7', '277']\n",
      "['David', '2', '246']\n",
      "['Sally', '9', '198']\n",
      "['Tom', '5', '221']\n",
      "['Andrew', '1', '191']\n",
      "['Paul', '5', '399']\n",
      "['Carl', '1', '300']\n",
      "['Tim', '1', '345']\n",
      "['Madison', '4', '202']\n",
      "['John', '4', '305']\n",
      "['Phil', '6', '249']\n",
      "['Madison', '7', '113']\n",
      "['Sally', '6', '256']\n",
      "New CSV file: \n",
      "\n",
      "Name,Count,Revenue,Average\n",
      "Andrew,9,58,6.44\n",
      "Phil,8,377,47.12\n",
      "Madison,5,302,60.4\n",
      "Sally,1,75,75.0\n",
      "Tyler,1,334,334.0\n",
      "Billy,7,146,20.86\n",
      "Steve,1,178,178.0\n",
      "Madison,7,313,44.71\n",
      "Sarah,8,103,12.88\n",
      "Tim,5,344,68.8\n",
      "Andrew,5,349,69.8\n",
      "Phil,8,61,7.62\n",
      "Madison,4,196,49.0\n",
      "Carl,1,374,374.0\n",
      "Devon,9,220,24.44\n",
      "Megan,9,321,35.67\n",
      "Sarah,7,277,39.57\n",
      "David,2,246,123.0\n",
      "Sally,9,198,22.0\n",
      "Tom,5,221,44.2\n",
      "Andrew,1,191,191.0\n",
      "Paul,5,399,79.8\n",
      "Carl,1,300,300.0\n",
      "Tim,1,345,345.0\n",
      "Madison,4,202,50.5\n",
      "John,4,305,76.25\n",
      "Phil,6,249,41.5\n",
      "Madison,7,113,16.14\n",
      "Sally,6,256,42.67\n",
      "\n"
     ]
    }
   ],
   "source": [
    "### excel csv\n",
    "\n",
    "import csv\n",
    "\n",
    "csvpath = Path(\"sales.csv\")\n",
    "\n",
    "# Initialize list of records\n",
    "records = []\n",
    "line_num = 0 \n",
    "\n",
    "with open(csvpath, 'r') as csvfile:\n",
    "    csvreader = csv.reader(csvfile, delimiter = ',')\n",
    "    print(type(csvreader))\n",
    "    header = next(csvreader)\n",
    "    print(f\"{header} <--- THIS IS THE OLD HEADER\")\n",
    "    line_num += 1 \n",
    "    \n",
    "    # append header to records\n",
    "    header.append('Average')\n",
    "    records.append(header)\n",
    "    \n",
    "    for row in csvreader:\n",
    "        # print(row) ## now csvreader is without header\n",
    "        name = row[0]\n",
    "        count = int(row[1])\n",
    "        revenue = int(row[2])\n",
    "        \n",
    "        avg = round(revenue/count, 2)\n",
    "        row.append(str(avg))\n",
    "        records.append(row)\n",
    "        \n",
    "sales_output = Path(\"sales_output.csv\")\n",
    "with open(sales_output, 'w') as csvfile:\n",
    "    csvwriter = csv.writer(csvfile, delimiter = ',')\n",
    "    \n",
    "    for row in records:\n",
    "        \n",
    "        ### csvwriter.writerow() takes in 2d lists and generate csv file\n",
    "        \n",
    "        csvwriter.writerow(row) \n",
    "\n",
    "with open(sales_output, 'r') as csvfile:\n",
    "    text = csvfile.read()\n",
    "    print(\"New CSV file: \\n\")\n",
    "    print(text)\n",
    "        \n",
    "        "
   ]
  },
  {
   "cell_type": "code",
   "execution_count": null,
   "metadata": {},
   "outputs": [],
   "source": []
  }
 ],
 "metadata": {
  "kernelspec": {
   "display_name": "Python 3",
   "language": "python",
   "name": "python3"
  },
  "language_info": {
   "codemirror_mode": {
    "name": "ipython",
    "version": 3
   },
   "file_extension": ".py",
   "mimetype": "text/x-python",
   "name": "python",
   "nbconvert_exporter": "python",
   "pygments_lexer": "ipython3",
   "version": "3.7.6"
  }
 },
 "nbformat": 4,
 "nbformat_minor": 4
}
