{
 "cells": [
  {
   "cell_type": "code",
   "execution_count": 3,
   "metadata": {},
   "outputs": [
    {
     "name": "stdout",
     "output_type": "stream",
     "text": [
      "Hello World!\n"
     ]
    }
   ],
   "source": [
    "print(\"Hello World!\")"
   ]
  },
  {
   "cell_type": "code",
   "execution_count": 6,
   "metadata": {},
   "outputs": [],
   "source": [
    "title = \"True Detective\" # string\n",
    "years = 24 # interget\n",
    "wage = 56.88 # float"
   ]
  },
  {
   "cell_type": "code",
   "execution_count": 8,
   "metadata": {},
   "outputs": [
    {
     "name": "stdout",
     "output_type": "stream",
     "text": [
      "True Detective\n"
     ]
    }
   ],
   "source": [
    "print(title)"
   ]
  },
  {
   "cell_type": "code",
   "execution_count": 10,
   "metadata": {},
   "outputs": [
    {
     "name": "stdout",
     "output_type": "stream",
     "text": [
      "True\n"
     ]
    }
   ],
   "source": [
    "jedi_status = True\n",
    "print(jedi_status)"
   ]
  },
  {
   "cell_type": "code",
   "execution_count": 13,
   "metadata": {},
   "outputs": [
    {
     "data": {
      "text/plain": [
       "str"
      ]
     },
     "execution_count": 13,
     "metadata": {},
     "output_type": "execute_result"
    }
   ],
   "source": [
    "type(jedi_status)\n",
    "type(title)"
   ]
  },
  {
   "cell_type": "code",
   "execution_count": 15,
   "metadata": {},
   "outputs": [
    {
     "name": "stdout",
     "output_type": "stream",
     "text": [
      "are you a jedi? True\n"
     ]
    }
   ],
   "source": [
    "print(\"are you a jedi? \" + str(jedi_status))"
   ]
  },
  {
   "cell_type": "code",
   "execution_count": 21,
   "metadata": {},
   "outputs": [
    {
     "data": {
      "text/plain": [
       "'I am 24 years old'"
      ]
     },
     "execution_count": 21,
     "metadata": {},
     "output_type": "execute_result"
    }
   ],
   "source": [
    "intro1 = f\"I am {years} years old\"\n",
    "intro1"
   ]
  },
  {
   "cell_type": "code",
   "execution_count": 34,
   "metadata": {},
   "outputs": [
    {
     "name": "stdout",
     "output_type": "stream",
     "text": [
      "APPL is priced at $254.32\n",
      "Today APPL increase by $55.45\n",
      "Today APPL increase by 27.88%\n"
     ]
    }
   ],
   "source": [
    "original_price = 198.87\n",
    "current_price = 254.32\n",
    "increase = current_price - original_price\n",
    "percent_increase = increase / original_price\n",
    "\n",
    "round1 = round(increase,2)\n",
    "round2 = round(percent_increase*100,2)\n",
    "\n",
    "print(f\"APPL is priced at ${current_price}\")\n",
    "print(f\"Today APPL increase by ${round1}\")\n",
    "print(f\"Today APPL increase by {round2}%\")\n"
   ]
  },
  {
   "cell_type": "code",
   "execution_count": 38,
   "metadata": {},
   "outputs": [
    {
     "name": "stdout",
     "output_type": "stream",
     "text": [
      "Not a Jedi yet!\n",
      "You are an adult!\n",
      "You are not too late to start\n"
     ]
    }
   ],
   "source": [
    "is_padawan = True\n",
    "age = 24\n",
    "if is_padawan:\n",
    "    print(\"Not a Jedi yet!\")\n",
    "else:\n",
    "    print(\"War you can face now.\")\n",
    "\n",
    "if age > 18:\n",
    "    print(\"You are an adult!\")\n",
    "    \n",
    "if age != 24: \n",
    "    print(\"You are not born in Rat year!\")\n",
    "    \n",
    "if age == 24 and is_padawan: \n",
    "    print(\"You are not too late to start\")"
   ]
  },
  {
   "cell_type": "code",
   "execution_count": 39,
   "metadata": {},
   "outputs": [
    {
     "name": "stdout",
     "output_type": "stream",
     "text": [
      "Oooo needs some work\n",
      "Question 2 works!\n",
      "You are of drinking age!\n",
      "GOT QUESTION 4!\n",
      "Can ride bumper cars\n"
     ]
    }
   ],
   "source": [
    "# 1.\n",
    "x = 5\n",
    "y = 10\n",
    "if 2 * x > 10:\n",
    "    print(\"Question 1 works!\")\n",
    "else:\n",
    "    print(\"Oooo needs some work\")\n",
    "\n",
    "# 2.\n",
    "x = 5\n",
    "y = 10\n",
    "if len(\"Dog\") < x:\n",
    "    print(\"Question 2 works!\")\n",
    "else:\n",
    "    print(\"Still missing out\")\n",
    "\n",
    "# 3.\n",
    "age = 21\n",
    "if age > 20:\n",
    "    print(\"You are of drinking age!\")\n",
    "else:\n",
    "    print(\"Argggggh! You think you can hoodwink me, matey?! You're too young to drink!\")\n",
    "\n",
    "# 4.\n",
    "x = 2\n",
    "y = 5\n",
    "if (x ** 3 >= y) and (y ** 2 < 26):\n",
    "    print(\"GOT QUESTION 4!\")\n",
    "else:\n",
    "    print(\"Oh good you can count\")\n",
    "\n",
    "# 5.\n",
    "height = 66\n",
    "age = 16\n",
    "adult_permission = True\n",
    "\n",
    "if (height > 70) and (age >= 18):\n",
    "    print(\"Can ride all the roller coasters\")\n",
    "elif (height > 65) and (age >= 18):\n",
    "    print(\"Can ride moderate roller coasters\")\n",
    "elif (height > 60) and (age >= 18):\n",
    "    print(\"Can ride light roller coasters\")\n",
    "elif ((height > 50) and (age >= 18)) or ((adult_permission) and (height > 50)):\n",
    "    print(\"Can ride bumper cars\")\n",
    "else:\n",
    "    print(\"Stick to lazy river\")\n"
   ]
  },
  {
   "cell_type": "code",
   "execution_count": 40,
   "metadata": {},
   "outputs": [
    {
     "name": "stdout",
     "output_type": "stream",
     "text": [
      "0\n",
      "1\n",
      "2\n",
      "3\n",
      "4\n",
      "5\n",
      "6\n"
     ]
    }
   ],
   "source": [
    "for x in range(7):\n",
    "    print(x)"
   ]
  },
  {
   "cell_type": "code",
   "execution_count": 42,
   "metadata": {},
   "outputs": [
    {
     "name": "stdout",
     "output_type": "stream",
     "text": [
      "1\n",
      "2\n",
      "3\n",
      "4\n",
      "5\n",
      "6\n",
      "7\n"
     ]
    }
   ],
   "source": [
    "for y in range(1,8):\n",
    "    print(y)"
   ]
  },
  {
   "cell_type": "code",
   "execution_count": 43,
   "metadata": {},
   "outputs": [
    {
     "name": "stdout",
     "output_type": "stream",
     "text": [
      "j\n",
      "a\n",
      "n\n",
      "i\n",
      "c\n",
      "e\n"
     ]
    }
   ],
   "source": [
    "word = \"janice\"\n",
    "for x in word:\n",
    "    print(x)"
   ]
  },
  {
   "cell_type": "code",
   "execution_count": 44,
   "metadata": {},
   "outputs": [
    {
     "name": "stdout",
     "output_type": "stream",
     "text": [
      "Give me a P!\n",
      "P!\n",
      "Give me a y!\n",
      "y!\n",
      "Give me a t!\n",
      "t!\n",
      "Give me a h!\n",
      "h!\n",
      "Give me a o!\n",
      "o!\n",
      "Give me a n!\n",
      "n!\n"
     ]
    }
   ],
   "source": [
    "cheer = \"Python\"\n",
    "for c in cheer: \n",
    "    print(\"Give me a \" + c + \"!\")\n",
    "    print(c + \"!\")"
   ]
  },
  {
   "cell_type": "code",
   "execution_count": 50,
   "metadata": {},
   "outputs": [
    {
     "name": "stdout",
     "output_type": "stream",
     "text": [
      "Farm!\n",
      "\n",
      "Zombie!\n"
     ]
    }
   ],
   "source": [
    "\"lo\"*3 + \"l\" \n",
    "print(\"Farm!\")\n",
    "print(\"\\nZombie!\")"
   ]
  },
  {
   "cell_type": "code",
   "execution_count": 51,
   "metadata": {},
   "outputs": [
    {
     "name": "stdout",
     "output_type": "stream",
     "text": [
      "Nextflix recommendation: neutral\n"
     ]
    }
   ],
   "source": [
    "\"\"\"\n",
    "Conditionally Yours\n",
    "\n",
    "Pseudocode:\n",
    "\n",
    "1. Create vars increase, percent_increase and sum_percent_increase\n",
    "2. For loop on the past 20 days, for each past day, compute:\n",
    "    increase = price increse from T-1 to T\n",
    "    percent_increase = increase / price T-1\n",
    "    add percent_increase to sum_percent increase\n",
    "3. Compute avg_percent_increase = sum_percent_increase / 20, if > 20% then buy, < -20% then sell, otherwise neutral\n",
    "\n",
    "\"\"\"\n",
    "\n",
    "original_price = 360.35\n",
    "current_price = 293.33\n",
    "increase = current_price - original_price\n",
    "percent_increase = increase / original_price * 100\n",
    "\n",
    "threshold_to_buy = 20\n",
    "threshold_to_sell = -20\n",
    "\n",
    "if percent_increase > 20: \n",
    "    recommendation = \"buy\"\n",
    "elif percent_increase < -20: \n",
    "    recommendation = \"sell\"\n",
    "else: \n",
    "    recommendation = \"neutral\"\n",
    "\n",
    "print(\"Nextflix recommendation: \" + recommendation)\n",
    "\n"
   ]
  },
  {
   "cell_type": "code",
   "execution_count": 2,
   "metadata": {},
   "outputs": [
    {
     "name": "stdout",
     "output_type": "stream",
     "text": [
      "['python', 'java', 'c']\n"
     ]
    }
   ],
   "source": [
    "cheers = ['python', 'java', 'c']\n",
    "print(cheers)"
   ]
  },
  {
   "cell_type": "code",
   "execution_count": 4,
   "metadata": {},
   "outputs": [
    {
     "name": "stdout",
     "output_type": "stream",
     "text": [
      "['python', 'c', 'cat', 'cat']\n"
     ]
    }
   ],
   "source": [
    "cheers = cheers + ['dog', 'cat']\n",
    "print(cheers[::2])"
   ]
  },
  {
   "cell_type": "code",
   "execution_count": 5,
   "metadata": {},
   "outputs": [
    {
     "name": "stdout",
     "output_type": "stream",
     "text": [
      "cat\n"
     ]
    }
   ],
   "source": [
    "print(cheers[-1])"
   ]
  },
  {
   "cell_type": "code",
   "execution_count": 6,
   "metadata": {},
   "outputs": [
    {
     "name": "stdout",
     "output_type": "stream",
     "text": [
      "3\n"
     ]
    }
   ],
   "source": [
    "print(cheers.index('dog'))"
   ]
  },
  {
   "cell_type": "code",
   "execution_count": 7,
   "metadata": {},
   "outputs": [
    {
     "name": "stdout",
     "output_type": "stream",
     "text": [
      "['python', 'java', 'c', 'dog', 'cat', 'dog', 'cat']\n"
     ]
    }
   ],
   "source": [
    "print(cheers)"
   ]
  },
  {
   "cell_type": "code",
   "execution_count": 8,
   "metadata": {},
   "outputs": [
    {
     "name": "stdout",
     "output_type": "stream",
     "text": [
      "['python', 'java', 'c', 'dog', 'cat', 'dog']\n"
     ]
    }
   ],
   "source": [
    "cheers.pop()\n",
    "print(cheers)"
   ]
  },
  {
   "cell_type": "code",
   "execution_count": 10,
   "metadata": {},
   "outputs": [
    {
     "data": {
      "text/plain": [
       "'python'"
      ]
     },
     "execution_count": 10,
     "metadata": {},
     "output_type": "execute_result"
    }
   ],
   "source": [
    "cheers.pop(0)"
   ]
  },
  {
   "cell_type": "code",
   "execution_count": 12,
   "metadata": {},
   "outputs": [
    {
     "name": "stdout",
     "output_type": "stream",
     "text": [
      "['water', 'butter']\n",
      "['eggs', 'apples', 'cinnamon', 'sugar', 'milk']\n",
      "['butter', 'apples', 'sugar']\n",
      "8\n",
      "3\n",
      "['butter', 'eggs', 'gala apples', 'cinnamon', 'milk']\n"
     ]
    }
   ],
   "source": [
    "grocery = ['water', 'butter', 'eggs', 'apples', 'cinnamon', 'sugar', 'milk']\n",
    "print(grocery[:2])\n",
    "print(grocery[(len(grocery)-5):])\n",
    "print(grocery[1::2])\n",
    "grocery.append('flour')\n",
    "apple_index = grocery.index('apples')\n",
    "grocery[apple_index] = 'gala apples'\n",
    "print(len(grocery))\n",
    "print(apple_index)\n",
    "grocery.remove('sugar')\n",
    "water_index = grocery.index('water')\n",
    "grocery.pop(water_index)\n",
    "grocery.pop()\n",
    "print(grocery)"
   ]
  },
  {
   "cell_type": "code",
   "execution_count": 14,
   "metadata": {},
   "outputs": [
    {
     "name": "stdout",
     "output_type": "stream",
     "text": [
      "I need butter\n"
     ]
    }
   ],
   "source": [
    "print(f\"I need {grocery[0]}\")"
   ]
  },
  {
   "cell_type": "code",
   "execution_count": 15,
   "metadata": {},
   "outputs": [],
   "source": [
    "# -*- coding: utf-8 -*-\n",
    "\"\"\"\n",
    "Student Do: Trading Log.\n",
    "\n",
    "This script demonstrates how to perform basic analysis of trading profits/losses\n",
    "over the course of a month (20 business days).\n",
    "\"\"\"\n",
    "\n",
    "# @TODO: Initialize the metric variables\n",
    "profit = []\n",
    "loss = [] \n",
    "max_pnl = 0 \n",
    "min_pnl = 0\n",
    "# best_gain = 0\n",
    "# worst_loss = 0\n",
    "total_pnl = 0 \n",
    "total_profit = 0\n",
    "total_loss = 0\n",
    "count = 0\n",
    "\n",
    "# @TODO: Initialize lists to hold profitable and unprofitable day profits/losses\n",
    "\n",
    "\n",
    "\n",
    "\n",
    "# List of trading profits/losses\n",
    "trading_pnl = [ -224,  352, 252, 354, -544,\n",
    "                -650,   56, 123, -43,  254,\n",
    "                 325, -123,  47, 321,  123,\n",
    "                 133, -151, 613, 232, -311 ]\n",
    "\n",
    "# @TODO: Iterate over each element of the list\n",
    "for x in trading_pnl: \n",
    "    \n",
    "    # @TODO: Cumulatively sum up the total and count\n",
    "    \n",
    "    total_pnl += x\n",
    "    count += 1\n",
    "    \n",
    "    # @TODO: Write logic to determine profitable vs. unprofitable days\n",
    "    \n",
    "    if x < 0:\n",
    "        profit.append(x)\n",
    "    else:\n",
    "        loss.append(x)\n",
    "    \n",
    "    # @TODO: Write logic to determine minimum and maximum values\n",
    "\n",
    "    if max_pnl < x:\n",
    "        max_pnl = x\n",
    "    \n",
    "    if min_pnl > x: \n",
    "        min_pnl = x\n",
    "\n",
    "\n",
    "\n",
    "# @TODO: Calculate the average\n",
    "\n",
    "avg_pnl = total_pnl / count\n",
    "\n",
    "# @TODO: Calculate count metrics\n",
    "\n",
    "\n",
    "# @TODO: Calculate percentage metrics\n",
    "\n",
    "\n",
    "\n",
    "# @TODO: Print out the summary statistics\n",
    "\n"
   ]
  },
  {
   "cell_type": "code",
   "execution_count": 18,
   "metadata": {},
   "outputs": [
    {
     "name": "stdout",
     "output_type": "stream",
     "text": [
      "Number of total banks: 7\n",
      "Largest bank: JP Morgan\n",
      "Smallest bank: American Express\n"
     ]
    }
   ],
   "source": [
    "banks = {'JP Morgan': 327, 'Bank of America': 302, 'Citigroup': 173, \n",
    "        'Goldman Sachs': 87, 'Morgan Stanley': 72, 'Capital One': 47, \n",
    "        'Wachovia': 175}\n",
    "\n",
    "banks['Citigroup'] = 170\n",
    "banks['American Express'] = 33\n",
    "del banks['Wachovia']\n",
    "\n",
    "total_cap = 0\n",
    "largest_co = 'JP Morgan'\n",
    "smallest_co = 'JP Morgan'\n",
    "largest_cap = banks[largest_co] \n",
    "smallest_cap = banks[smallest_co]\n",
    "\n",
    "for key,val in banks.items():\n",
    "    total_cap += val \n",
    "    if val > largest_cap: \n",
    "        largest_cap = val\n",
    "        largest_co = key\n",
    "    if val < smallest_cap: \n",
    "        smallest_cap = val\n",
    "        smallest_co = key\n",
    "\n",
    "\n",
    "print(f\"Number of total banks: {len(banks)}\")\n",
    "print(f\"Largest bank: {largest_co}\")\n",
    "print(f\"Smallest bank: {smallest_co}\")\n",
    "        \n",
    "    \n",
    "    "
   ]
  },
  {
   "cell_type": "code",
   "execution_count": 19,
   "metadata": {},
   "outputs": [
    {
     "name": "stdout",
     "output_type": "stream",
     "text": [
      "{'AAPL': [['04-17-2019', 199.54, 203.38, 198.61, 203.13], ['04-18-2019', 199.46, 201.37, 198.56, 199.25], ['04-19-2019', 198.58, 199.85, 198.01, 199.23], ['04-20-2019', 199.2, 200.14, 196.21, 198.87], ['04-21-2019', 200.85, 201.0, 198.44, 198.95]], 'MU': [['04-17-2019', 43.2, 43.53, 42.79, 43.4], ['04-18-2019', 43.36, 44.05, 42.76, 43.15], ['04-19-2019', 42.26, 42.93, 42.08, 42.76], ['04-20-2019', 42.17, 42.23, 41.2, 41.82], ['04-21-2019', 42.85, 43.2, 41.81, 42.01]], 'AMD': [['04-17-2019', 27.6, 27.88, 27.34, 27.68], ['04-18-2019', 28.21, 28.27, 27.22, 27.49], ['04-19-2019', 27.72, 28.18, 27.49, 27.93], ['04-20-2019', 27.8, 27.84, 26.96, 27.33], ['04-21-2019', 28.21, 28.38, 27.66, 27.85]], 'TWTR': [['04-17-2019', 34.67, 34.86, 34.32, 34.4], ['04-18-2019', 34.73, 34.9, 34.2, 34.48], ['04-19-2019', 34.84, 34.99, 34.23, 34.46], ['04-20-2019', 34.38, 35.03, 34.34, 34.71], ['04-21-2019', 34.67, 34.83, 34.11, 34.37]]}\n"
     ]
    }
   ],
   "source": [
    "# Dictionary of List of Lists\n",
    "# Key: Stock Ticker | Value: List of Records\n",
    "# Record: Date, Open, High, Low, Close\n",
    "historical_stock_data = {\n",
    "    \"AAPL\": [\n",
    "        [\"04-17-2019\", 199.54, 203.38, 198.61, 203.13],\n",
    "        [\"04-18-2019\", 199.46, 201.37, 198.56, 199.25],\n",
    "        [\"04-19-2019\", 198.58, 199.85, 198.01, 199.23],\n",
    "        [\"04-20-2019\", 199.20, 200.14, 196.21, 198.87],\n",
    "\n",
    "    ],\n",
    "    \"MU\": [\n",
    "        [\"04-17-2019\", 43.20, 43.53, 42.79, 43.40],\n",
    "        [\"04-18-2019\", 43.36, 44.05, 42.76, 43.15],\n",
    "        [\"04-19-2019\", 42.26, 42.93, 42.08, 42.76],\n",
    "        [\"04-20-2019\", 42.17, 42.23, 41.20, 41.82],\n",
    "\n",
    "    ],\n",
    "    \"AMD\": [\n",
    "        [\"04-17-2019\", 27.60, 27.88, 27.34, 27.68],\n",
    "        [\"04-18-2019\", 28.21, 28.27, 27.22, 27.49],\n",
    "        [\"04-19-2019\", 27.72, 28.18, 27.49, 27.93],\n",
    "        [\"04-20-2019\", 27.80, 27.84, 26.96, 27.33],\n",
    "\n",
    "    ],\n",
    "    \"TWTR\": [\n",
    "        [\"04-17-2019\", 34.67, 34.86, 34.32, 34.40],\n",
    "        [\"04-18-2019\", 34.73, 34.90, 34.20, 34.48],\n",
    "        [\"04-19-2019\", 34.84, 34.99, 34.23, 34.46],\n",
    "        [\"04-20-2019\", 34.38, 35.03, 34.34, 34.71],\n",
    "\n",
    "    ]\n",
    "}\n",
    "\n",
    "# Dictionary of Dictionary\n",
    "# Key: Stock Ticker | Value: Dictionary\n",
    "new_records = {\n",
    "    \"AAPL\": {\n",
    "        \"date\": \"04-21-2019\",\n",
    "        \"open\": 200.85,\n",
    "        \"high\": 201.00,\n",
    "        \"low\": 198.44,\n",
    "        \"close\": 198.95\n",
    "    },\n",
    "    \"MU\": {\n",
    "        \"date\": \"04-21-2019\",\n",
    "        \"open\": 42.85,\n",
    "        \"high\": 43.20,\n",
    "        \"low\": 41.81,\n",
    "        \"close\": 42.01\n",
    "    },\n",
    "    \"AMD\": {\n",
    "        \"date\": \"04-21-2019\",\n",
    "        \"open\": 28.21,\n",
    "        \"high\": 28.38,\n",
    "        \"low\": 27.66,\n",
    "        \"close\": 27.85\n",
    "    },\n",
    "    \"TWTR\": {\n",
    "        \"date\": \"04-21-2019\",\n",
    "        \"open\": 34.67,\n",
    "        \"high\": 34.83,\n",
    "        \"low\": 34.11,\n",
    "        \"close\": 34.37\n",
    "    }\n",
    "}\n",
    "\n",
    "# @TODO: Set each ticker's new record: date, open, high, low, close\n",
    "for k,v in new_records.items():\n",
    "    new_date = v['date']\n",
    "    new_open = v['open']\n",
    "    new_high = v['high']\n",
    "    new_low = v['low']\n",
    "    new_close = v['close']\n",
    "    new_data = [new_date, new_open, new_high, new_low, new_close]\n",
    "    historical_stock_data[k].append(new_data)\n",
    "\n",
    "print(historical_stock_data)\n",
    "    \n",
    "\n",
    "\n",
    "\n",
    "\n",
    "# @TODO: Choice 1: Add a new round of entries to the 'historical_stock_data' dictionary\n",
    "\n",
    "\n",
    "\n",
    "\n",
    "\n",
    "\n",
    "# @TODO: Choice 2: Add a new round of entries via for loop to the 'historical_stock_data' dictionary\n",
    "\n",
    "\n",
    "\n",
    "\n",
    "\n",
    "\n",
    "# @TODO: Print out the modified 'historical_stock_data' dictionary\n",
    "\n",
    "\n"
   ]
  }
 ],
 "metadata": {
  "kernelspec": {
   "display_name": "Python 3",
   "language": "python",
   "name": "python3"
  },
  "language_info": {
   "codemirror_mode": {
    "name": "ipython",
    "version": 3
   },
   "file_extension": ".py",
   "mimetype": "text/x-python",
   "name": "python",
   "nbconvert_exporter": "python",
   "pygments_lexer": "ipython3",
   "version": "3.7.6"
  }
 },
 "nbformat": 4,
 "nbformat_minor": 4
}
