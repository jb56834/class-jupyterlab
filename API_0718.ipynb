{
 "cells": [
  {
   "cell_type": "code",
   "execution_count": 1,
   "metadata": {},
   "outputs": [],
   "source": [
    "from dotenv import load_dotenv\n",
    "import os\n",
    "import requests\n",
    "import plaid\n",
    "import datetime\n",
    "import json"
   ]
  },
  {
   "cell_type": "code",
   "execution_count": 2,
   "metadata": {},
   "outputs": [
    {
     "data": {
      "text/plain": [
       "True"
      ]
     },
     "execution_count": 2,
     "metadata": {},
     "output_type": "execute_result"
    }
   ],
   "source": [
    "load_dotenv()"
   ]
  },
  {
   "cell_type": "code",
   "execution_count": 3,
   "metadata": {},
   "outputs": [
    {
     "data": {
      "text/plain": [
       "str"
      ]
     },
     "execution_count": 3,
     "metadata": {},
     "output_type": "execute_result"
    }
   ],
   "source": [
    "api_key0 = os.getenv(\"QUANDL_API_KEY\")\n",
    "api_key1 = os.getenv(\"ALPACA_API_KEY\")\n",
    "api_key2 = os.getenv(\"ALPACA_SECRET_KEY\")\n",
    "\n",
    "plaid_client_id = os.getenv(\"PLAID_CLIENT_ID\")\n",
    "plaid_public_key = os.getenv(\"PLAID_PUBLIC_KEY\")\n",
    "plaid_sbx_secret_key = os.getenv(\"PLAID_SBX_SECRET_KEY\")\n",
    "\n",
    "type(plaid_client_id)\n",
    "type(plaid_public_key)\n",
    "type(plaid_sbx_secret_key)"
   ]
  },
  {
   "cell_type": "code",
   "execution_count": 18,
   "metadata": {},
   "outputs": [
    {
     "data": {
      "text/plain": [
       "'https://www.quandl.com/api/v3/datasets/WIKI/MSFT.json?api_key=VJHGDysWB2K13tDXac-V'"
      ]
     },
     "execution_count": 18,
     "metadata": {},
     "output_type": "execute_result"
    }
   ],
   "source": [
    "# concatenate request_url with api_key variable\n",
    "request_url = \"https://www.quandl.com/api/v3/datasets/WIKI/MSFT.json?api_key=\"\n",
    "request_url = request_url + api_key0\n",
    "request_url"
   ]
  },
  {
   "cell_type": "code",
   "execution_count": 19,
   "metadata": {},
   "outputs": [],
   "source": [
    "request_data = requests.get(request_url)\n",
    "# request_data.content"
   ]
  },
  {
   "cell_type": "code",
   "execution_count": 33,
   "metadata": {},
   "outputs": [
    {
     "data": {
      "text/plain": [
       "{'institutions': [{'country_codes': ['US'],\n",
       "   'credentials': [{'label': 'Username', 'name': 'username', 'type': 'text'},\n",
       "    {'label': 'Password', 'name': 'password', 'type': 'password'}],\n",
       "   'has_mfa': True,\n",
       "   'input_spec': 'fixed',\n",
       "   'institution_id': 'ins_112060',\n",
       "   'mfa': ['code', 'list', 'questions', 'selections'],\n",
       "   'mfa_code_type': 'numeric',\n",
       "   'name': '1st Bank (Broadus, MT) - Personal',\n",
       "   'oauth': False,\n",
       "   'products': ['assets',\n",
       "    'auth',\n",
       "    'balance',\n",
       "    'transactions',\n",
       "    'income',\n",
       "    'identity'],\n",
       "   'routing_numbers': []},\n",
       "  {'country_codes': ['US'],\n",
       "   'credentials': [{'label': 'Username', 'name': 'username', 'type': 'text'},\n",
       "    {'label': 'Password', 'name': 'password', 'type': 'password'}],\n",
       "   'has_mfa': True,\n",
       "   'input_spec': 'fixed',\n",
       "   'institution_id': 'ins_112062',\n",
       "   'mfa': ['code', 'list', 'questions', 'selections'],\n",
       "   'mfa_code_type': 'numeric',\n",
       "   'name': '1st Constitution Bank - Personal',\n",
       "   'oauth': False,\n",
       "   'products': ['assets',\n",
       "    'auth',\n",
       "    'balance',\n",
       "    'transactions',\n",
       "    'income',\n",
       "    'identity'],\n",
       "   'routing_numbers': []}],\n",
       " 'request_id': 'V9BsvCRDHovhnUM',\n",
       " 'total': 11371}"
      ]
     },
     "execution_count": 33,
     "metadata": {},
     "output_type": "execute_result"
    }
   ],
   "source": [
    "# PLAID PRACTICE\n",
    "\n",
    "# Extract list of institutions from Plaid\n",
    "# Create client object, in order to send requests to plaid, it needs a client object\n",
    "client = plaid.Client(client_id = plaid_client_id, secret = plaid_sbx_secret_key, \n",
    "                     public_key = plaid_public_key, environment = 'sandbox')\n",
    "\n",
    "client.Institutions.get(2)"
   ]
  },
  {
   "cell_type": "code",
   "execution_count": 36,
   "metadata": {},
   "outputs": [],
   "source": [
    "# Create public token and exchange for access token\n",
    "# Select an institution for processing, can retrieve the name of the institution\n",
    "INSTITUTION_ID = \"ins_109512\"\n",
    "\n",
    "# Create public token to be exchanged for institution access token\n",
    "create_tkn_response = client.Sandbox.public_token.create(INSTITUTION_ID, ['transactions', 'income', 'assets'])\n",
    "\n",
    "# Exchange public token for access token\n",
    "exchange_response = client.Item.public_token.exchange(create_tkn_response['public_token'])\n",
    "\n",
    "# Store access token as variable\n",
    "access_token = exchange_response['access_token']\n"
   ]
  },
  {
   "cell_type": "code",
   "execution_count": 46,
   "metadata": {},
   "outputs": [
    {
     "name": "stdout",
     "output_type": "stream",
     "text": [
      "-4.22\n",
      "-4.22\n",
      "-4.22\n",
      "-4.22\n",
      "-4.22\n",
      "-4.22\n"
     ]
    }
   ],
   "source": [
    "# Get list of Accounts\n",
    "client.Accounts.get(access_token)\n",
    "\n",
    "# Parse the JSON output, and store the access token as a Python variable.\n",
    "# Extract Transactions with date range\n",
    "start_date = '{:%Y-%m-%d}'.format(datetime.datetime.now() + datetime.timedelta(-365))\n",
    "end_date = '{:%Y-%m-%d}'.format(datetime.datetime.now()) \n",
    "\n",
    "# Execute get request for transactions\n",
    "transaction_response = client.Transactions.get(access_token, start_date, end_date)\n",
    "\n",
    "# print json output\n",
    "\n",
    "# print(json.dumps(transaction_response['transactions'][:2], indent=4, sort_keys=True))\n",
    "\n",
    "for transaction in transaction_response['transactions']: \n",
    "    if transaction['name'] == 'INTRST PYMNT': \n",
    "        print(json.dumps(transaction['amount'], indent=4, sort_keys=True))"
   ]
  },
  {
   "cell_type": "code",
   "execution_count": null,
   "metadata": {},
   "outputs": [],
   "source": []
  }
 ],
 "metadata": {
  "kernelspec": {
   "display_name": "Python 3",
   "language": "python",
   "name": "python3"
  },
  "language_info": {
   "codemirror_mode": {
    "name": "ipython",
    "version": 3
   },
   "file_extension": ".py",
   "mimetype": "text/x-python",
   "name": "python",
   "nbconvert_exporter": "python",
   "pygments_lexer": "ipython3",
   "version": "3.7.6"
  }
 },
 "nbformat": 4,
 "nbformat_minor": 4
}
